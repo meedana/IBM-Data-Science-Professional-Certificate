{
 "cells": [
  {
   "attachments": {},
   "cell_type": "markdown",
   "id": "cdd8597a-5c94-40e9-8e11-6ccf3ecd1470",
   "metadata": {},
   "source": [
    "# Data Science Tools and Ecosystem"
   ]
  },
  {
   "attachments": {},
   "cell_type": "markdown",
   "id": "f9ff3f5b-7726-4417-92af-38ae6a78a74f",
   "metadata": {},
   "source": [
    "## In this notebook, Data Science Tools and Ecosystem are summarized."
   ]
  },
  {
   "attachments": {},
   "cell_type": "markdown",
   "id": "d8d54686",
   "metadata": {},
   "source": [
    "**Objectives:**\n",
    "* Python\n",
    "* R\n",
    "* Juypter Notebooks\n",
    "* Visual Studio Code\n"
   ]
  },
  {
   "attachments": {},
   "cell_type": "markdown",
   "id": "b11fe116-2970-4182-a579-b2107defbb87",
   "metadata": {},
   "source": [
    "### Some of the popular languages that Data Scientists use are:"
   ]
  },
  {
   "attachments": {},
   "cell_type": "markdown",
   "id": "2bba5f36-2aff-472b-a6f2-beff893c6c73",
   "metadata": {},
   "source": [
    "1. Python\n",
    "2. R\n",
    "3. SQL\n",
    "4. Scala"
   ]
  },
  {
   "attachments": {},
   "cell_type": "markdown",
   "id": "6033878f-dc2d-4a23-a50a-12789e1727f1",
   "metadata": {},
   "source": [
    "### Some of the commonly used libraries used by Data Scientists include:"
   ]
  },
  {
   "attachments": {},
   "cell_type": "markdown",
   "id": "296bf01b-eb45-460f-87c5-28efbbe54a07",
   "metadata": {},
   "source": [
    "1. Pandas\n",
    "2. Numpy\n",
    "3. Matplotlib\n",
    "4. Seaborn"
   ]
  },
  {
   "attachments": {},
   "cell_type": "markdown",
   "id": "65b832c1-7ee1-4a05-88b4-4344a5587b7d",
   "metadata": {},
   "source": [
    "| Data Science Tools |\n",
    "| -------------|\n",
    "|Python|\n",
    "|Github|\n",
    "|Jupyter Notebooks|"
   ]
  },
  {
   "attachments": {},
   "cell_type": "markdown",
   "id": "97efab33-0423-470b-8825-c35cde802968",
   "metadata": {},
   "source": [
    "### Below are a few examples of evaluating arithmetic expressions in Python"
   ]
  },
  {
   "cell_type": "code",
   "execution_count": 7,
   "id": "662968d1-9da1-4620-a881-de14e9c2d3ea",
   "metadata": {},
   "outputs": [
    {
     "name": "stdout",
     "output_type": "stream",
     "text": [
      "17\n"
     ]
    }
   ],
   "source": [
    "# This a simple arithmetic expression to mutiply then add integers\n",
    "\n",
    "print((3*4)+5)"
   ]
  },
  {
   "cell_type": "code",
   "execution_count": 8,
   "id": "f37a6ba8",
   "metadata": {},
   "outputs": [
    {
     "name": "stdout",
     "output_type": "stream",
     "text": [
      "3.3333333333333335\n"
     ]
    }
   ],
   "source": [
    "# This will convert 200 minutes to hours by diving by 60\n",
    "\n",
    "x = 200\n",
    "print(200/60)"
   ]
  },
  {
   "attachments": {},
   "cell_type": "markdown",
   "id": "c6545a85",
   "metadata": {},
   "source": [
    "## Author\n",
    "Nadeem Abha"
   ]
  }
 ],
 "metadata": {
  "kernelspec": {
   "display_name": "Python 3",
   "language": "python",
   "name": "python3"
  },
  "language_info": {
   "codemirror_mode": {
    "name": "ipython",
    "version": 3
   },
   "file_extension": ".py",
   "mimetype": "text/x-python",
   "name": "python",
   "nbconvert_exporter": "python",
   "pygments_lexer": "ipython3",
   "version": "3.9.4"
  }
 },
 "nbformat": 4,
 "nbformat_minor": 5
}
